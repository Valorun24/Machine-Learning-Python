{
 "cells": [
  {
   "cell_type": "code",
   "execution_count": 20,
   "metadata": {},
   "outputs": [],
   "source": [
    "# Membaca data \n",
    "import pandas as pd\n",
    "dataku = pd.read_csv('cuaca.csv')"
   ]
  },
  {
   "cell_type": "code",
   "execution_count": 21,
   "metadata": {},
   "outputs": [
    {
     "name": "stdout",
     "output_type": "stream",
     "text": [
      "ukuran :  (14, 5)\n"
     ]
    }
   ],
   "source": [
    "#tampilkan ukuran dataset\n",
    "print(\"ukuran : \", dataku.shape)"
   ]
  },
  {
   "cell_type": "code",
   "execution_count": 22,
   "metadata": {},
   "outputs": [
    {
     "name": "stdout",
     "output_type": "stream",
     "text": [
      "\n",
      "Features: Index(['cuaca1', 'suhu', 'kelembaban', 'angin', 'main'], dtype='object')\n"
     ]
    }
   ],
   "source": [
    "print(\"\\nFeatures:\", dataku.columns)"
   ]
  },
  {
   "cell_type": "code",
   "execution_count": 23,
   "metadata": {},
   "outputs": [],
   "source": [
    "# Simpan data fitur dalam X dan data target dalam y\n",
    "x = dataku[dataku.columns[:-11]]\n",
    "y = dataku[dataku.columns[-1]]"
   ]
  },
  {
   "cell_type": "code",
   "execution_count": 24,
   "metadata": {},
   "outputs": [
    {
     "name": "stdout",
     "output_type": "stream",
     "text": [
      "\n",
      "Features matrix:\n",
      " Empty DataFrame\n",
      "Columns: []\n",
      "Index: [0, 1, 2, 3, 4, 5, 6, 7, 8, 9, 10, 11, 12, 13]\n",
      "\n",
      "Response vector:\n",
      " 0     yes\n",
      "1     yes\n",
      "2     yes\n",
      "3     yes\n",
      "4     yes\n",
      "5     yes\n",
      "6      no\n",
      "7     yes\n",
      "8      no\n",
      "9      no\n",
      "10     no\n",
      "11     no\n",
      "12    yes\n",
      "13    yes\n",
      "Name: main, dtype: object\n"
     ]
    }
   ],
   "source": [
    "print(\"\\nFeatures matrix:\\n\", x)\n",
    "print(\"\\nResponse vector:\\n\", y)"
   ]
  },
  {
   "cell_type": "code",
   "execution_count": 25,
   "metadata": {},
   "outputs": [
    {
     "name": "stdout",
     "output_type": "stream",
     "text": [
      "\n",
      "Features matrix:\n",
      " Empty DataFrame\n",
      "Columns: []\n",
      "Index: [7, 8, 9, 10, 11, 12, 13]\n",
      "\n",
      "Response vector:\n",
      " 7     yes\n",
      "8      no\n",
      "9      no\n",
      "10     no\n",
      "11     no\n",
      "12    yes\n",
      "13    yes\n",
      "Name: main, dtype: object\n"
     ]
    }
   ],
   "source": [
    "print(\"\\nFeatures matrix:\\n\", x.tail (7))\n",
    "print(\"\\nResponse vector:\\n\", y.tail (7))"
   ]
  }
 ],
 "metadata": {
  "kernelspec": {
   "display_name": "Python 3.10.6 64-bit",
   "language": "python",
   "name": "python3"
  },
  "language_info": {
   "codemirror_mode": {
    "name": "ipython",
    "version": 3
   },
   "file_extension": ".py",
   "mimetype": "text/x-python",
   "name": "python",
   "nbconvert_exporter": "python",
   "pygments_lexer": "ipython3",
   "version": "3.10.6"
  },
  "orig_nbformat": 4,
  "vscode": {
   "interpreter": {
    "hash": "f2ccb58c476f33ba3e3aee7ac07234ef6b8217ef24ad64d2a7d4fed1a57c1cd2"
   }
  }
 },
 "nbformat": 4,
 "nbformat_minor": 2
}
