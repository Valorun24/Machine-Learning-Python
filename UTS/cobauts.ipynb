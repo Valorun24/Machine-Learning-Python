{
 "cells": [
  {
   "cell_type": "code",
   "execution_count": 4,
   "metadata": {},
   "outputs": [],
   "source": [
    "import pandas as pd\n",
    "data_test = pd.read_csv('test.csv')\n",
    "data_train = pd.read_csv('train.csv')\n"
   ]
  },
  {
   "cell_type": "code",
   "execution_count": 5,
   "metadata": {},
   "outputs": [],
   "source": [
    "x = data_test[['Gender', 'Class', 'Flight Distance', 'Time convenient', 'Ease of booking', 'Onboard service', 'Inflight service']]\n",
    "y = data_test[data_test.columns[-1]]\n"
   ]
  },
  {
   "cell_type": "code",
   "execution_count": 6,
   "metadata": {},
   "outputs": [
    {
     "name": "stdout",
     "output_type": "stream",
     "text": [
      "['Class', 'Flight Distance', 'Inflight wifi service', 'Time convenient', 'Baggage handling', 'Checkin service', 'Inflight service']\n"
     ]
    }
   ],
   "source": [
    "from sklearn.feature_selection import SelectKBest\n",
    "from sklearn.feature_selection import f_classif\n",
    "from sklearn.preprocessing import LabelEncoder\n",
    "import pandas as pd\n",
    "from sklearn.preprocessing import OneHotEncoder\n",
    "\n",
    "# le = LabelEncoder()\n",
    "\n",
    "categorical_columns = ['Gender', 'Customer Type', 'Type of Travel', 'Class']\n",
    "ohencod = OneHotEncoder()\n",
    "# melatih model dan mentransformasi data input\n",
    "encoded_data = ohencod.fit_transform(data_train[categorical_columns])\n",
    "\n",
    "# mengubah menjadi DataFrame\n",
    "encoded_df = pd.DataFrame(\n",
    "    encoded_data.toarray(), \n",
    "    columns=['Female', 'Male', 'disLoyal', 'Loyal', 'Business', \n",
    "             'Personal', 'Business_Class', 'Eco_Class', 'Eco_Plus_Class'])\n",
    "\n",
    "# Menggabungkan kembali data yang sudah diencoding\n",
    "features = pd.concat([encoded_df, data_train.drop(categorical_columns, axis=1)], axis=1)\n",
    "\n",
    "\n",
    "x = features.drop(['Satisfaction'], axis=1)\n",
    "y = features['Satisfaction']\n",
    "x.fillna(x.mean(), inplace=True)\n",
    "\n",
    "# Mengaplikasikan SelectKBest untuk mencari 7 fitur terbaik\n",
    "best_features = SelectKBest(score_func=f_classif, k=7)\n",
    "fit = best_features.fit(x, y)\n",
    "# Mendapatkan 7 fitur terbaik\n",
    "X_new = fit.transform(x)\n",
    "\n",
    "# Mendapatkan array boolean dari fitur yang didapat\n",
    "mask = fit.get_support()\n",
    "\n",
    "# Mendapatkan nama-nama fitur \n",
    "selected_features = []\n",
    "for bool, feature in zip(mask, data_train.columns):\n",
    "    if bool:\n",
    "        selected_features.append(feature)\n",
    "\n",
    "print(selected_features)\n"
   ]
  },
  {
   "cell_type": "code",
   "execution_count": 7,
   "metadata": {},
   "outputs": [
    {
     "name": "stdout",
     "output_type": "stream",
     "text": [
      "\n",
      "Feature matrix : \n",
      "         Female  Male  disLoyal  Loyal  Business  Personal  Business_Class  \\\n",
      "0          0.0   1.0       1.0    0.0       0.0       1.0             0.0   \n",
      "1          0.0   1.0       0.0    1.0       1.0       0.0             1.0   \n",
      "2          1.0   0.0       1.0    0.0       1.0       0.0             1.0   \n",
      "3          1.0   0.0       1.0    0.0       1.0       0.0             1.0   \n",
      "4          0.0   1.0       1.0    0.0       1.0       0.0             1.0   \n",
      "...        ...   ...       ...    ...       ...       ...             ...   \n",
      "103899     1.0   0.0       0.0    1.0       1.0       0.0             0.0   \n",
      "103900     0.0   1.0       1.0    0.0       1.0       0.0             1.0   \n",
      "103901     0.0   1.0       0.0    1.0       1.0       0.0             1.0   \n",
      "103902     1.0   0.0       0.0    1.0       1.0       0.0             0.0   \n",
      "103903     0.0   1.0       1.0    0.0       1.0       0.0             1.0   \n",
      "\n",
      "        Eco_Class  Eco_Plus_Class  Age  ...  Seat comfort  \\\n",
      "0             0.0             1.0   13  ...             5   \n",
      "1             0.0             0.0   25  ...             1   \n",
      "2             0.0             0.0   26  ...             5   \n",
      "3             0.0             0.0   25  ...             2   \n",
      "4             0.0             0.0   61  ...             5   \n",
      "...           ...             ...  ...  ...           ...   \n",
      "103899        1.0             0.0   23  ...             2   \n",
      "103900        0.0             0.0   49  ...             5   \n",
      "103901        0.0             0.0   30  ...             5   \n",
      "103902        1.0             0.0   22  ...             1   \n",
      "103903        0.0             0.0   27  ...             1   \n",
      "\n",
      "        Inflight entertainment  Onboard service  Leg room service  \\\n",
      "0                            5                4                 3   \n",
      "1                            1                1                 5   \n",
      "2                            5                4                 3   \n",
      "3                            2                2                 5   \n",
      "4                            3                3                 4   \n",
      "...                        ...              ...               ...   \n",
      "103899                       2                3                 1   \n",
      "103900                       5                5                 5   \n",
      "103901                       4                3                 2   \n",
      "103902                       1                4                 5   \n",
      "103903                       1                1                 1   \n",
      "\n",
      "        Baggage handling  Checkin service  Inflight service  Cleanliness  \\\n",
      "0                      4                4                 5            5   \n",
      "1                      3                1                 4            1   \n",
      "2                      4                4                 4            5   \n",
      "3                      3                1                 4            2   \n",
      "4                      4                3                 3            3   \n",
      "...                  ...              ...               ...          ...   \n",
      "103899                 4                2                 3            2   \n",
      "103900                 5                5                 5            4   \n",
      "103901                 4                5                 5            4   \n",
      "103902                 1                5                 4            1   \n",
      "103903                 4                4                 3            1   \n",
      "\n",
      "        Departure delay  Arrival delay  \n",
      "0                    25           18.0  \n",
      "1                     1            6.0  \n",
      "2                     0            0.0  \n",
      "3                    11            9.0  \n",
      "4                     0            0.0  \n",
      "...                 ...            ...  \n",
      "103899                3            0.0  \n",
      "103900                0            0.0  \n",
      "103901                7           14.0  \n",
      "103902                0            0.0  \n",
      "103903                0            0.0  \n",
      "\n",
      "[103904 rows x 27 columns]\n",
      "\n",
      "Response vector : \n",
      " 0         0\n",
      "1         0\n",
      "2         1\n",
      "3         0\n",
      "4         1\n",
      "         ..\n",
      "103899    0\n",
      "103900    1\n",
      "103901    0\n",
      "103902    0\n",
      "103903    0\n",
      "Name: Satisfaction, Length: 103904, dtype: int64\n"
     ]
    }
   ],
   "source": [
    "feature_train = data_train[selected_features]\n",
    "target_train = data_train['Satisfaction']\n",
    "\n",
    "feature_test = data_test[selected_features]\n",
    "target_test = data_test['Satisfaction']\n",
    "\n",
    "print(\"\\nFeature matrix : \\n\", x)\n",
    "print(\"\\nResponse vector : \\n\", y)"
   ]
  },
  {
   "cell_type": "markdown",
   "metadata": {},
   "source": [
    "<h1>Proses encoding menggunakan LabelEncoder"
   ]
  },
  {
   "cell_type": "code",
   "execution_count": 8,
   "metadata": {},
   "outputs": [
    {
     "name": "stdout",
     "output_type": "stream",
     "text": [
      "\n",
      "Feature matrix : \n",
      "         Business_Class  Eco_Class  Eco_Plus_Class  Flight Distance  \\\n",
      "0                  0.0        0.0             1.0              460   \n",
      "1                  1.0        0.0             0.0              235   \n",
      "2                  1.0        0.0             0.0             1142   \n",
      "3                  1.0        0.0             0.0              562   \n",
      "4                  1.0        0.0             0.0              214   \n",
      "...                ...        ...             ...              ...   \n",
      "103899             0.0        1.0             0.0              192   \n",
      "103900             1.0        0.0             0.0             2347   \n",
      "103901             1.0        0.0             0.0             1995   \n",
      "103902             0.0        1.0             0.0             1000   \n",
      "103903             1.0        0.0             0.0             1723   \n",
      "\n",
      "        Inflight wifi service  Time convenient  Baggage handling  \\\n",
      "0                           3                4                 4   \n",
      "1                           3                2                 3   \n",
      "2                           2                2                 4   \n",
      "3                           2                5                 3   \n",
      "4                           3                3                 4   \n",
      "...                       ...              ...               ...   \n",
      "103899                      2                1                 4   \n",
      "103900                      4                4                 5   \n",
      "103901                      1                1                 4   \n",
      "103902                      1                1                 1   \n",
      "103903                      1                3                 4   \n",
      "\n",
      "        Checkin service  Inflight service  \n",
      "0                     4                 5  \n",
      "1                     1                 4  \n",
      "2                     4                 4  \n",
      "3                     1                 4  \n",
      "4                     3                 3  \n",
      "...                 ...               ...  \n",
      "103899                2                 3  \n",
      "103900                5                 5  \n",
      "103901                5                 5  \n",
      "103902                5                 4  \n",
      "103903                4                 3  \n",
      "\n",
      "[103904 rows x 9 columns]\n"
     ]
    }
   ],
   "source": [
    "# mengubah menjadi DataFrame\n",
    "encoded_data_train = pd.DataFrame(\n",
    "    ohencod.fit_transform(feature_train[['Class']]).toarray(), \n",
    "    columns=['Business_Class', 'Eco_Class', 'Eco_Plus_Class'])\n",
    "\n",
    "encoded_data_test = pd.DataFrame(\n",
    "    ohencod.fit_transform(feature_test[['Class']]).toarray(), \n",
    "    columns=['Business_Class', 'Eco_Class', 'Eco_Plus_Class'])\n",
    "\n",
    "# Menggabungkan kembali data yang sudah diencoding\n",
    "data_train_final = pd.concat([encoded_data_train, feature_train.drop(['Class'], axis=1)], axis=1)\n",
    "data_train_final.fillna(data_train_final.mean(), inplace=True)\n",
    "\n",
    "data_test_final = pd.concat([encoded_data_test, feature_test.drop(['Class'], axis=1)], axis=1)\n",
    "data_test_final.fillna(data_test_final.mean(), inplace=True)\n",
    "print(\"\\nFeature matrix : \\n\", data_train_final)"
   ]
  },
  {
   "cell_type": "code",
   "execution_count": 9,
   "metadata": {},
   "outputs": [
    {
     "name": "stdout",
     "output_type": "stream",
     "text": [
      "Akurasi KNN dengan k:3 = 0.8129812134277795\n",
      "Akurasi KNN dengan k:5 = 0.8163304588851247\n",
      "Akurasi KNN dengan k:7 = 0.8152525408068987\n",
      "Akurasi KNN dengan k:9 = 0.8122112719433323\n",
      "Akurasi KNN dengan k:11 = 0.8116723129042193\n"
     ]
    }
   ],
   "source": [
    "from sklearn.neighbors import KNeighborsClassifier\n",
    "\n",
    "x_test = data_test_final\n",
    "y_test = target_test\n",
    "x_train = data_train_final\n",
    "y_train = target_train\n",
    "\n",
    "k = [3, 5, 7, 9, 11]\n",
    "\n",
    "for i in k:\n",
    "    knn = KNeighborsClassifier(n_neighbors=i)\n",
    "    # melatih model\n",
    "    knn.fit(x_train, y_train)\n",
    "    # menghitung akurasi prediksi model pada data uji\n",
    "    accuracy = knn.score(x_test, y_test)\n",
    "    print(f'Akurasi KNN dengan k:{i} = {accuracy}')"
   ]
  }
 ],
 "metadata": {
  "kernelspec": {
   "display_name": "Python 3.10.6 64-bit",
   "language": "python",
   "name": "python3"
  },
  "language_info": {
   "codemirror_mode": {
    "name": "ipython",
    "version": 3
   },
   "file_extension": ".py",
   "mimetype": "text/x-python",
   "name": "python",
   "nbconvert_exporter": "python",
   "pygments_lexer": "ipython3",
   "version": "3.10.6"
  },
  "orig_nbformat": 4,
  "vscode": {
   "interpreter": {
    "hash": "f2ccb58c476f33ba3e3aee7ac07234ef6b8217ef24ad64d2a7d4fed1a57c1cd2"
   }
  }
 },
 "nbformat": 4,
 "nbformat_minor": 2
}
