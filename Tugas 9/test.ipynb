{
 "cells": [
  {
   "cell_type": "code",
   "execution_count": null,
   "metadata": {},
   "outputs": [],
   "source": [
    "import pandas as pd\n",
    "import numpy as np\n",
    "import matplotlib.pyplot as plt\n",
    "\n",
    "from sklearn.cluster import KMeans"
   ]
  },
  {
   "cell_type": "code",
   "execution_count": null,
   "metadata": {},
   "outputs": [],
   "source": [
    "min_clusters = 2\n",
    "max_clusters = 15"
   ]
  },
  {
   "cell_type": "code",
   "execution_count": null,
   "metadata": {},
   "outputs": [],
   "source": [
    "def within_sum_of_squares(data, centroids, labels):\n",
    "\n",
    "    SSW = 0\n",
    "    for l in np.unique(labels):\n",
    "        data_l = data [labels == l]\n",
    "        resid = data_l - centroids[l]\n",
    "        SSW += (resid**2).sum()\n",
    "    return SSW"
   ]
  },
  {
   "cell_type": "code",
   "execution_count": null,
   "metadata": {},
   "outputs": [],
   "source": [
    "wss_list = []\n",
    "for i in range(min_clusters, max_clusters+1):\n",
    "  print('Training {} cluster algo...'.format(i))\n",
    "  km = KMeans(n_clusters=i)\n",
    "  km.fit(data)\n",
    "  wss = within_sum_of_squares(np.array(data),km.cluster_centers_, km.predict(data))    \n",
    "  wss_list.append(wss)\n",
    "plt.plot(wss_list)\n",
    "plt.title('WSS Plot')\n",
    "plt.xlabel('# of Clusters')\n",
    "plt.ylabel('WSS')\n",
    "plt.show()"
   ]
  }
 ],
 "metadata": {
  "language_info": {
   "name": "python"
  },
  "orig_nbformat": 4
 },
 "nbformat": 4,
 "nbformat_minor": 2
}
