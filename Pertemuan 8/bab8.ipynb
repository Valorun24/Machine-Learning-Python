{
 "cells": [
  {
   "cell_type": "code",
   "execution_count": 3,
   "metadata": {},
   "outputs": [
    {
     "name": "stdout",
     "output_type": "stream",
     "text": [
      "[[ 1.   2. ]\n",
      " [ 5.   8. ]\n",
      " [ 1.5  1.8]\n",
      " [ 8.   8. ]\n",
      " [ 6.   7. ]\n",
      " [ 9.  11. ]]\n",
      "[0 0 1 0 1 1]\n",
      "Centroids  :\n",
      " [[7.   8.5 ]\n",
      " [1.25 1.9 ]]\n",
      "labels     :  [1 0 1 0 0 0]\n",
      "coordinate: [1. 2.] label: 1\n"
     ]
    },
    {
     "name": "stderr",
     "output_type": "stream",
     "text": [
      "c:\\Users\\LENOVO\\AppData\\Local\\Programs\\Python\\Python310\\lib\\site-packages\\sklearn\\cluster\\_kmeans.py:870: FutureWarning: The default value of `n_init` will change from 10 to 'auto' in 1.4. Set the value of `n_init` explicitly to suppress the warning\n",
      "  warnings.warn(\n"
     ]
    },
    {
     "ename": "AttributeError",
     "evalue": "module 'matplotlib' has no attribute 'plot'",
     "output_type": "error",
     "traceback": [
      "\u001b[1;31m---------------------------------------------------------------------------\u001b[0m",
      "\u001b[1;31mAttributeError\u001b[0m                            Traceback (most recent call last)",
      "Cell \u001b[1;32mIn[3], line 18\u001b[0m\n\u001b[0;32m     16\u001b[0m \u001b[39mfor\u001b[39;00m i \u001b[39min\u001b[39;00m \u001b[39mrange\u001b[39m (\u001b[39mlen\u001b[39m(x)):\n\u001b[0;32m     17\u001b[0m   \u001b[39mprint\u001b[39m(\u001b[39m\"\u001b[39m\u001b[39mcoordinate:\u001b[39m\u001b[39m\"\u001b[39m,x[i], \u001b[39m\"\u001b[39m\u001b[39mlabel:\u001b[39m\u001b[39m\"\u001b[39m,labels[i])\n\u001b[1;32m---> 18\u001b[0m   plt\u001b[39m.\u001b[39;49mplot (x[i][\u001b[39m0\u001b[39m], x[i][\u001b[39m1\u001b[39m], colors[labels[i]], markersize \u001b[39m=\u001b[39m \u001b[39m10\u001b[39m)\n\u001b[0;32m     19\u001b[0m   plt\u001b[39m.\u001b[39mscatter(centroids[:, \u001b[39m0\u001b[39m],centroids[:, \u001b[39m1\u001b[39m], marker \u001b[39m=\u001b[39m \u001b[39m\"\u001b[39m\u001b[39mx\u001b[39m\u001b[39m\"\u001b[39m, s\u001b[39m=\u001b[39m\u001b[39m150\u001b[39m, linewidths \u001b[39m=\u001b[39m \u001b[39m5\u001b[39m, zorder \u001b[39m=\u001b[39m \u001b[39m10\u001b[39m)\n\u001b[0;32m     20\u001b[0m   plt\u001b[39m.\u001b[39mshow()\n",
      "File \u001b[1;32mc:\\Users\\LENOVO\\AppData\\Local\\Programs\\Python\\Python310\\lib\\site-packages\\matplotlib\\_api\\__init__.py:226\u001b[0m, in \u001b[0;36mcaching_module_getattr.<locals>.__getattr__\u001b[1;34m(name)\u001b[0m\n\u001b[0;32m    224\u001b[0m \u001b[39mif\u001b[39;00m name \u001b[39min\u001b[39;00m props:\n\u001b[0;32m    225\u001b[0m     \u001b[39mreturn\u001b[39;00m props[name]\u001b[39m.\u001b[39m\u001b[39m__get__\u001b[39m(instance)\n\u001b[1;32m--> 226\u001b[0m \u001b[39mraise\u001b[39;00m \u001b[39mAttributeError\u001b[39;00m(\n\u001b[0;32m    227\u001b[0m     \u001b[39mf\u001b[39m\u001b[39m\"\u001b[39m\u001b[39mmodule \u001b[39m\u001b[39m{\u001b[39;00m\u001b[39mcls\u001b[39m\u001b[39m.\u001b[39m\u001b[39m__module__\u001b[39m\u001b[39m!r}\u001b[39;00m\u001b[39m has no attribute \u001b[39m\u001b[39m{\u001b[39;00mname\u001b[39m!r}\u001b[39;00m\u001b[39m\"\u001b[39m)\n",
      "\u001b[1;31mAttributeError\u001b[0m: module 'matplotlib' has no attribute 'plot'"
     ]
    }
   ],
   "source": [
    "import numpy as np\n",
    "import matplotlib as plt\n",
    "from sklearn.cluster import KMeans\n",
    "from sklearn.metrics import accuracy_score\n",
    "x = np.array ([[1, 2], [5, 8], [1.5, 1.8], [8, 8],[6,7],[9, 11]])\n",
    "print(x)\n",
    "labelx = np.array([0, 0, 1, 0, 1, 1])\n",
    "print(labelx)\n",
    "kmeans = KMeans(n_clusters=2)\n",
    "kmeans.fit(x)\n",
    "centroids = kmeans.cluster_centers_\n",
    "labels = kmeans.labels_\n",
    "print(\"Centroids  :\\n\",centroids)\n",
    "print(\"labels     : \",labels)\n",
    "colors = [\"g.\",\"r.\",\"c.\",\"y.\"]\n",
    "for i in range (len(x)):\n",
    "  print(\"coordinate:\",x[i], \"label:\",labels[i])\n",
    "  plt.plot (x[i][0], x[i][1], colors[labels[i]], markersize = 10)\n",
    "  plt.scatter(centroids[:, 0],centroids[:, 1], marker = \"x\", s=150, linewidths = 5, zorder = 10)\n",
    "  plt.show()\n",
    "prediction=kmeans.predict ( [ [ 5,6 ] ] )\n",
    "print(prediction)\n",
    "\n",
    "print(kmeans.predict(x))\n",
    "print(labelx)"
   ]
  }
 ],
 "metadata": {
  "kernelspec": {
   "display_name": "Python 3.10.6 64-bit",
   "language": "python",
   "name": "python3"
  },
  "language_info": {
   "codemirror_mode": {
    "name": "ipython",
    "version": 3
   },
   "file_extension": ".py",
   "mimetype": "text/x-python",
   "name": "python",
   "nbconvert_exporter": "python",
   "pygments_lexer": "ipython3",
   "version": "3.10.6"
  },
  "orig_nbformat": 4,
  "vscode": {
   "interpreter": {
    "hash": "f2ccb58c476f33ba3e3aee7ac07234ef6b8217ef24ad64d2a7d4fed1a57c1cd2"
   }
  }
 },
 "nbformat": 4,
 "nbformat_minor": 2
}
