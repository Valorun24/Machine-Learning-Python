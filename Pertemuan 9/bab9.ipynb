{
 "cells": [
  {
   "cell_type": "code",
   "execution_count": 6,
   "metadata": {},
   "outputs": [
    {
     "name": "stdout",
     "output_type": "stream",
     "text": [
      "[2 2 1 0 0 0 1 2 2 0 2 1 1 0]\n",
      "Suhu: [1 1 1 2 0 0 0 2 0 2 2 2 1 2]\n",
      "Label: [0 0 1 1 1 0 1 0 1 1 1 1 1 0]\n",
      "[(2, 1), (2, 1), (1, 1), (0, 2), (0, 0), (0, 0), (1, 0), (2, 2), (2, 0), (0, 2), (2, 2), (1, 2), (1, 1), (0, 2)]\n"
     ]
    },
    {
     "ename": "TypeError",
     "evalue": "_BaseNB.predict() takes 2 positional arguments but 3 were given",
     "output_type": "error",
     "traceback": [
      "\u001b[1;31m---------------------------------------------------------------------------\u001b[0m",
      "\u001b[1;31mTypeError\u001b[0m                                 Traceback (most recent call last)",
      "Cell \u001b[1;32mIn[6], line 35\u001b[0m\n\u001b[0;32m     31\u001b[0m model\u001b[39m.\u001b[39mfit(fitur,label)\n\u001b[0;32m     33\u001b[0m \u001b[39m#predict output\u001b[39;00m\n\u001b[0;32m     34\u001b[0m \u001b[39m# 0 : Overcast, 2:Mild\u001b[39;00m\n\u001b[1;32m---> 35\u001b[0m predicted \u001b[39m=\u001b[39m model\u001b[39m.\u001b[39;49mpredict([\u001b[39m0\u001b[39;49m,\u001b[39m2\u001b[39;49m], [\u001b[39m2\u001b[39;49m,\u001b[39m0\u001b[39;49m])\n\u001b[0;32m     36\u001b[0m truelabel \u001b[39m=\u001b[39m [\u001b[39m0\u001b[39m,\u001b[39m1\u001b[39m]\n\u001b[0;32m     37\u001b[0m \u001b[39mprint\u001b[39m(\u001b[39m\"\u001b[39m\u001b[39mTrue label:\u001b[39m\u001b[39m\"\u001b[39m, truelabel)\n",
      "\u001b[1;31mTypeError\u001b[0m: _BaseNB.predict() takes 2 positional arguments but 3 were given"
     ]
    }
   ],
   "source": [
    "#Dataset\n",
    "cuaca = ['panas', 'panas', 'mendung','hujan','hujan','hujan','mendung','panas','panas','hujan','panas','mendung','mendung','hujan']\n",
    "kategori_suhu = ['Hot','Hot','Hot','Mild','Cool','Cool','Cool','Mild','Cool','Mild','Mild','Mild','Hot','Mild']\n",
    "kuliah = ['Tidak','Tidak','Ya','Ya','Ya','Tidak','Ya','Tidak','Ya','Ya','Ya','Ya','Ya','Tidak']\n",
    "\n",
    "#import LabelEncoder\n",
    "from sklearn import preprocessing\n",
    "#buat labelEncooder\n",
    "le = preprocessing.LabelEncoder()\n",
    "#konversi label string ke angka\n",
    "cuaca_encode = le.fit_transform(cuaca)\n",
    "print(cuaca_encode)\n",
    "\n",
    "#konversi string labels ke numbers\n",
    "suhu_encoode = le.fit_transform(kategori_suhu)\n",
    "label = le.fit_transform(kuliah)\n",
    "print(\"Suhu:\", suhu_encoode)\n",
    "print(\"Label:\", label)\n",
    "\n",
    "#gabungkan cuaca dan suhu dalam 1 list of tuples\n",
    "fitur = list(zip(cuaca_encode,suhu_encoode))\n",
    "print(fitur)\n",
    "\n",
    "#Import gaussian naive bayes model\n",
    "from sklearn.naive_bayes import GaussianNB\n",
    "\n",
    "#create a gaussian classifier\n",
    "model = GaussianNB()\n",
    "\n",
    "#train the model using the training sets\n",
    "model.fit(fitur,label)\n",
    "\n",
    "#predict output\n",
    "# 0 : Overcast, 2:Mild\n",
    "predicted = model.predict([[0,2], [2,0]])\n",
    "truelabel = [0,1]\n",
    "print(\"True label:\", truelabel)"
   ]
  }
 ],
 "metadata": {
  "kernelspec": {
   "display_name": "Python 3",
   "language": "python",
   "name": "python3"
  },
  "language_info": {
   "codemirror_mode": {
    "name": "ipython",
    "version": 3
   },
   "file_extension": ".py",
   "mimetype": "text/x-python",
   "name": "python",
   "nbconvert_exporter": "python",
   "pygments_lexer": "ipython3",
   "version": "3.10.6"
  },
  "orig_nbformat": 4
 },
 "nbformat": 4,
 "nbformat_minor": 2
}
