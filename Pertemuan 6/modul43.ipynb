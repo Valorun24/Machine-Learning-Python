{
 "cells": [
  {
   "cell_type": "markdown",
   "metadata": {},
   "source": [
    "Nomor 2"
   ]
  },
  {
   "cell_type": "code",
   "execution_count": 2,
   "metadata": {},
   "outputs": [
    {
     "name": "stdout",
     "output_type": "stream",
     "text": [
      "Prediksi : ['setosa', 'versicolor', 'versicolor', 'setosa', 'virginica', 'versicolor', 'virginica', 'setosa', 'setosa', 'virginica', 'versicolor', 'setosa', 'virginica', 'versicolor', 'versicolor', 'setosa', 'versicolor', 'versicolor', 'setosa', 'setosa', 'versicolor', 'versicolor', 'versicolor', 'setosa', 'virginica', 'versicolor', 'setosa', 'setosa', 'versicolor', 'virginica', 'versicolor', 'virginica', 'versicolor', 'virginica', 'virginica', 'setosa', 'versicolor', 'setosa', 'versicolor', 'virginica', 'virginica', 'setosa', 'versicolor', 'virginica', 'versicolor', 'virginica', 'setosa', 'setosa', 'setosa', 'versicolor', 'setosa', 'setosa', 'virginica', 'virginica', 'virginica', 'virginica', 'virginica', 'versicolor', 'virginica', 'versicolor']\n"
     ]
    }
   ],
   "source": [
    "# Memanggil dataset iris\n",
    "from sklearn.datasets import load_iris\n",
    "iris_ku = load_iris()\n",
    "\n",
    "# simpan data fitur/kolom (x) dan target (y)\n",
    "X = iris_ku.data\n",
    "Y = iris_ku.target\n",
    "\n",
    "# simpan nama fitur/kolom (x) dan target (y)\n",
    "feature_names = iris_ku.feature_names\n",
    "target_names = iris_ku.target_names\n",
    "\n",
    "# fitur(x) and target(y)\n",
    "X = iris_ku.data\n",
    "Y = iris_ku.target\n",
    "\n",
    "#splitting x dan y untuk data latih dan uji\n",
    "from sklearn.model_selection import train_test_split\n",
    "X_latih, X_tes, Y_latih, Y_test = train_test_split(X, Y, test_size=0.4, random_state=1)\n",
    "\n",
    "\n",
    "#pelatihan pada data latih menggunakan KNN (k=3)\n",
    "from sklearn.neighbors import KNeighborsClassifier\n",
    "knn = KNeighborsClassifier(n_neighbors=3)\n",
    "knn.fit(X_latih, Y_latih)\n",
    "\n",
    "#melakukan prediksi pada data uji\n",
    "y_prediksi = knn.predict(X_tes)\n",
    "\n",
    "pred_species = [iris_ku.target_names[p] for p in y_prediksi]\n",
    "print(\"Prediksi :\", pred_species)\n"
   ]
  },
  {
   "cell_type": "code",
   "execution_count": 5,
   "metadata": {},
   "outputs": [
    {
     "name": "stdout",
     "output_type": "stream",
     "text": [
      "Akurasi model KNN : 0.9833333333333333\n"
     ]
    }
   ],
   "source": [
    "# Memanggil dataset iris\n",
    "from sklearn.datasets import load_iris\n",
    "iris_ku = load_iris()\n",
    "\n",
    "# simpan data fitur/kolom (x) dan target (y)\n",
    "X = iris_ku.data\n",
    "Y = iris_ku.target\n",
    "\n",
    "# simpan nama fitur/kolom (x) dan target (y)\n",
    "feature_names = iris_ku.feature_names\n",
    "target_names = iris_ku.target_names\n",
    "\n",
    "# fitur(x) and target(y)\n",
    "X = iris_ku.data\n",
    "Y = iris_ku.target\n",
    "\n",
    "#splitting x dan y untuk data latih dan uji\n",
    "from sklearn.model_selection import train_test_split\n",
    "X_latih, X_tes, Y_latih, Y_test = train_test_split(X, Y, test_size=0.4, random_state=1)\n",
    "\n",
    "\n",
    "#pelatihan pada data latih menggunakan KNN (k=3)\n",
    "from sklearn.neighbors import KNeighborsClassifier\n",
    "knn = KNeighborsClassifier(n_neighbors=3)\n",
    "knn.fit(X_latih, Y_latih)\n",
    "\n",
    "#melakukan prediksi pada data uji\n",
    "y_prediksi = knn.predict(X_tes)\n",
    "\n",
    "#Perbandingan nilai aktual (y_tes) dengan nilai prediksi (y_prediksi)\n",
    "from sklearn import metrics\n",
    "print(\"Akurasi model KNN :\", metrics.accuracy_score(Y_test, y_prediksi))"
   ]
  },
  {
   "cell_type": "code",
   "execution_count": 6,
   "metadata": {},
   "outputs": [
    {
     "name": "stdout",
     "output_type": "stream",
     "text": [
      "Akurasi model KNN : 0.9833333333333333\n"
     ]
    }
   ],
   "source": [
    "# Memanggil dataset iris\n",
    "from sklearn.datasets import load_iris\n",
    "iris_ku = load_iris()\n",
    "\n",
    "# simpan data fitur/kolom (x) dan target (y)\n",
    "X = iris_ku.data\n",
    "Y = iris_ku.target\n",
    "\n",
    "# simpan nama fitur/kolom (x) dan target (y)\n",
    "feature_names = iris_ku.feature_names\n",
    "target_names = iris_ku.target_names\n",
    "\n",
    "# fitur(x) and target(y)\n",
    "X = iris_ku.data\n",
    "Y = iris_ku.target\n",
    "\n",
    "#splitting x dan y untuk data latih dan uji\n",
    "from sklearn.model_selection import train_test_split\n",
    "X_latih, X_tes, Y_latih, Y_test = train_test_split(X, Y, test_size=0.4, random_state=1)\n",
    "\n",
    "\n",
    "#pelatihan pada data latih menggunakan KNN (k=3)\n",
    "from sklearn.neighbors import KNeighborsClassifier\n",
    "knn = KNeighborsClassifier(n_neighbors=5)\n",
    "knn.fit(X_latih, Y_latih)\n",
    "\n",
    "#melakukan prediksi pada data uji\n",
    "y_prediksi = knn.predict(X_tes)\n",
    "\n",
    "#Perbandingan nilai aktual (y_tes) dengan nilai prediksi (y_prediksi)\n",
    "from sklearn import metrics\n",
    "print(\"Akurasi model KNN :\", metrics.accuracy_score(Y_test, y_prediksi))"
   ]
  },
  {
   "cell_type": "code",
   "execution_count": 7,
   "metadata": {},
   "outputs": [
    {
     "name": "stdout",
     "output_type": "stream",
     "text": [
      "Akurasi model KNN : 0.9833333333333333\n"
     ]
    }
   ],
   "source": [
    "# Memanggil dataset iris\n",
    "from sklearn.datasets import load_iris\n",
    "iris_ku = load_iris()\n",
    "\n",
    "# simpan data fitur/kolom (x) dan target (y)\n",
    "X = iris_ku.data\n",
    "Y = iris_ku.target\n",
    "\n",
    "# simpan nama fitur/kolom (x) dan target (y)\n",
    "feature_names = iris_ku.feature_names\n",
    "target_names = iris_ku.target_names\n",
    "\n",
    "# fitur(x) and target(y)\n",
    "X = iris_ku.data\n",
    "Y = iris_ku.target\n",
    "\n",
    "#splitting x dan y untuk data latih dan uji\n",
    "from sklearn.model_selection import train_test_split\n",
    "X_latih, X_tes, Y_latih, Y_test = train_test_split(X, Y, test_size=0.4, random_state=1)\n",
    "\n",
    "\n",
    "#pelatihan pada data latih menggunakan KNN (k=3)\n",
    "from sklearn.neighbors import KNeighborsClassifier\n",
    "knn = KNeighborsClassifier(n_neighbors=7)\n",
    "knn.fit(X_latih, Y_latih)\n",
    "\n",
    "#melakukan prediksi pada data uji\n",
    "y_prediksi = knn.predict(X_tes)\n",
    "\n",
    "#Perbandingan nilai aktual (y_tes) dengan nilai prediksi (y_prediksi)\n",
    "from sklearn import metrics\n",
    "print(\"Akurasi model KNN :\", metrics.accuracy_score(Y_test, y_prediksi))"
   ]
  },
  {
   "cell_type": "code",
   "execution_count": 8,
   "metadata": {},
   "outputs": [
    {
     "name": "stdout",
     "output_type": "stream",
     "text": [
      "Akurasi model KNN : 0.9833333333333333\n"
     ]
    }
   ],
   "source": [
    "# Memanggil dataset iris\n",
    "from sklearn.datasets import load_iris\n",
    "iris_ku = load_iris()\n",
    "\n",
    "# simpan data fitur/kolom (x) dan target (y)\n",
    "X = iris_ku.data\n",
    "Y = iris_ku.target\n",
    "\n",
    "# simpan nama fitur/kolom (x) dan target (y)\n",
    "feature_names = iris_ku.feature_names\n",
    "target_names = iris_ku.target_names\n",
    "\n",
    "# fitur(x) and target(y)\n",
    "X = iris_ku.data\n",
    "Y = iris_ku.target\n",
    "\n",
    "#splitting x dan y untuk data latih dan uji\n",
    "from sklearn.model_selection import train_test_split\n",
    "X_latih, X_tes, Y_latih, Y_test = train_test_split(X, Y, test_size=0.4, random_state=1)\n",
    "\n",
    "\n",
    "#pelatihan pada data latih menggunakan KNN (k=3)\n",
    "from sklearn.neighbors import KNeighborsClassifier\n",
    "knn = KNeighborsClassifier(n_neighbors=10)\n",
    "knn.fit(X_latih, Y_latih)\n",
    "\n",
    "#melakukan prediksi pada data uji\n",
    "y_prediksi = knn.predict(X_tes)\n",
    "\n",
    "#Perbandingan nilai aktual (y_tes) dengan nilai prediksi (y_prediksi)\n",
    "from sklearn import metrics\n",
    "print(\"Akurasi model KNN :\", metrics.accuracy_score(Y_test, y_prediksi))"
   ]
  },
  {
   "cell_type": "code",
   "execution_count": 9,
   "metadata": {},
   "outputs": [
    {
     "name": "stdout",
     "output_type": "stream",
     "text": [
      "Akurasi model KNN : 0.9833333333333333\n"
     ]
    }
   ],
   "source": [
    "# Memanggil dataset iris\n",
    "from sklearn.datasets import load_iris\n",
    "iris_ku = load_iris()\n",
    "\n",
    "# simpan data fitur/kolom (x) dan target (y)\n",
    "X = iris_ku.data\n",
    "Y = iris_ku.target\n",
    "\n",
    "# simpan nama fitur/kolom (x) dan target (y)\n",
    "feature_names = iris_ku.feature_names\n",
    "target_names = iris_ku.target_names\n",
    "\n",
    "# fitur(x) and target(y)\n",
    "X = iris_ku.data\n",
    "Y = iris_ku.target\n",
    "\n",
    "#splitting x dan y untuk data latih dan uji\n",
    "from sklearn.model_selection import train_test_split\n",
    "X_latih, X_tes, Y_latih, Y_test = train_test_split(X, Y, test_size=0.4, random_state=1)\n",
    "\n",
    "\n",
    "#pelatihan pada data latih menggunakan KNN (k=3)\n",
    "from sklearn.neighbors import KNeighborsClassifier\n",
    "knn = KNeighborsClassifier(n_neighbors=21)\n",
    "knn.fit(X_latih, Y_latih)\n",
    "\n",
    "#melakukan prediksi pada data uji\n",
    "y_prediksi = knn.predict(X_tes)\n",
    "\n",
    "#Perbandingan nilai aktual (y_tes) dengan nilai prediksi (y_prediksi)\n",
    "from sklearn import metrics\n",
    "print(\"Akurasi model KNN :\", metrics.accuracy_score(Y_test, y_prediksi))"
   ]
  }
 ],
 "metadata": {
  "kernelspec": {
   "display_name": "Python 3.10.6 64-bit",
   "language": "python",
   "name": "python3"
  },
  "language_info": {
   "codemirror_mode": {
    "name": "ipython",
    "version": 3
   },
   "file_extension": ".py",
   "mimetype": "text/x-python",
   "name": "python",
   "nbconvert_exporter": "python",
   "pygments_lexer": "ipython3",
   "version": "3.10.6"
  },
  "orig_nbformat": 4,
  "vscode": {
   "interpreter": {
    "hash": "f2ccb58c476f33ba3e3aee7ac07234ef6b8217ef24ad64d2a7d4fed1a57c1cd2"
   }
  }
 },
 "nbformat": 4,
 "nbformat_minor": 2
}
